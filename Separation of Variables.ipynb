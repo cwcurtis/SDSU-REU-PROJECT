{
 "cells": [
  {
   "cell_type": "code",
   "execution_count": 1,
   "metadata": {
    "collapsed": true
   },
   "outputs": [],
   "source": [
    "import numpy as np\n",
    "import matplotlib.pyplot as plt\n",
    "from mpl_toolkits.mplot3d import Axes3D\n",
    "#%matplotlib inline\n",
    "\n",
    "Pi = np.pi"
   ]
  },
  {
   "cell_type": "markdown",
   "metadata": {},
   "source": [
    "Let us solve the following problem.  Show that if \n",
    "$$\n",
    "\\Delta u = 0, ~ (x,y) \\in [-\\pi,\\pi]\\times[-\\pi,\\pi]\n",
    "$$\n",
    "with the Dirichlet data\n",
    "$$\n",
    "u = 0, ~ y=\\pm \\pi\n",
    "$$\n",
    "and the Neumann data\n",
    "$$\n",
    "u_{x} = \\pm \\gamma u, ~ x = \\pm \\pi ~\\mbox{respectively},\n",
    "$$\n",
    "that there is a non-trivial solution if \n",
    "$$\n",
    "\\gamma \\tanh(\\pi n) = n, ~ n \\in \\mathbb{Z}_{+}.\n",
    "$$\n",
    "\n",
    "\n",
    "<strong> Solution </strong>: \n",
    "\n",
    "To show this, we use separation of variables.  In this case, we suppose that \n",
    "$$\n",
    "u(x,y) = X(x)Y(y).\n",
    "$$\n",
    "Therefore, following the logic of this, we get the two ODE's\n",
    "$$\n",
    "X'' = \\lambda X, ~ Y'' = -\\lambda Y.\n",
    "$$\n",
    "Now, given the behavior of $Y$ at the boundary, we see immediately that we have no choice but to suppose that $\\lambda > 0$ so that\n",
    "$$\n",
    "Y(y) = \\alpha_{1}\\cos(\\sqrt{\\lambda}y) + \\alpha_{2}\\sin(\\sqrt{\\lambda}y).\n",
    "$$\n",
    "Applying our boundary conditions then gives us the matrix problem\n",
    "$$\n",
    "\\left( \\begin{array}{cc} \\cos(\\pi \\sqrt{\\lambda}) & \\sin(\\pi \\sqrt{\\lambda}) \\\\ \\cos(\\pi \\sqrt{\\lambda}) & -\\sin(\\pi \\sqrt{\\lambda})\\end{array} \\right)\\left(\\begin{array}{c} \\alpha_{1} \\\\ \\alpha_{2} \\end{array} \\right) = \\left(\\begin{array}{c} 0 \\\\ 0 \\end{array} \\right).\n",
    "$$\n",
    "In order that we not have trivial solutions, we must necessarily have the determinant of this matrix be zero, which then gives us the condition\n",
    "$$\n",
    "\\sin(2\\pi\\sqrt{\\lambda}) = 0.\n",
    "$$\n",
    "\n",
    "\n",
    "This then implies that $\\sqrt{\\lambda} = n$, $n\\in \\mathbb{Z}$.  We therefore get immediately that $\\alpha_{1}=0$ so that \n",
    "$$\n",
    "Y_{n}(y) = \\alpha_{2}\\sin(ny), ~ n \\in \\mathbb{Z}_{+}.\n",
    "$$\n",
    "Following this then, we get for $X(x)$ that\n",
    "$$\n",
    "X_{n}(x) = \\tilde{\\alpha}_{1} \\cosh(nx) + \\tilde{\\alpha}_{2} \\sinh(nx).\n",
    "$$\n",
    "In order to satisfy the boundary conditions, we necessarily must have \n",
    "$$\n",
    "n\\left(\\pm\\tilde{\\alpha}_{1} \\sinh(n\\pi) + \\tilde{\\alpha}_{2} \\cosh(n\\pi)\\right) = \\pm \\gamma \\left(\\tilde{\\alpha}_{1} \\cosh(n\\pi) \\pm \\tilde{\\alpha}_{2} \\sinh(n\\pi) \\right)\n",
    "$$\n",
    "Following our arguments from above, this gives us the matrix problem\n",
    "$$\n",
    "\\left( \\begin{array}{cc} (n\\tanh(\\pi n) - \\gamma) & (n-\\gamma\\tanh(\\pi n)) \\\\ (\\gamma - n\\tanh(\\pi n)) & (n-\\gamma\\tanh(\\pi n))\\end{array} \\right)\\left(\\begin{array}{c} \\tilde{\\alpha_{1}} \\\\ \\tilde{\\alpha_{2}} \\end{array} \\right) = \\left(\\begin{array}{c} 0 \\\\ 0 \\end{array} \\right).\n",
    "$$"
   ]
  },
  {
   "cell_type": "markdown",
   "metadata": {},
   "source": [
    "<strong> Problem 1 </strong>: Grind out the rest.  You should be able to show that in fact you can have solutions when \n",
    "$$\n",
    "\\gamma \\tanh(\\pi n) = n\n",
    "$$\n",
    "but also when\n",
    "$$\n",
    "\\gamma = n \\tanh(\\pi n).\n",
    "$$"
   ]
  },
  {
   "cell_type": "markdown",
   "metadata": {},
   "source": [
    "Now, maybe we want to actually see what a solution to this problem looks like.  We also note that we have two classes of solutions, so we want to be able to see how both behave.  And we can do this in Python via the following code."
   ]
  },
  {
   "cell_type": "markdown",
   "metadata": {},
   "source": [
    "<strong> Problem 2 </strong>: Using the code below, make plots of both classes of solutions for $n=2$."
   ]
  },
  {
   "cell_type": "code",
   "execution_count": 2,
   "metadata": {
    "collapsed": false
   },
   "outputs": [],
   "source": [
    "# Which class of solutions are being plotted here?\n",
    "Npts = 1e2\n",
    "Nval = 2.\n",
    "\n",
    "Xvals = np.linspace(-Pi,Pi,Npts)\n",
    "Yvals = np.linspace(-Pi,Pi,Npts)\n",
    "Xg, Yg = np.meshgrid(Xvals,Yvals)\n",
    "uvals = (np.cosh(Nval*Xg))*(np.sin(Nval*Yg))\n",
    "\n",
    "fig = plt.figure()\n",
    "ax = fig.add_subplot(111, projection='3d')\n",
    "\n",
    "ax.plot_surface(Xg,Yg,uvals)\n",
    "plt.show()"
   ]
  },
  {
   "cell_type": "code",
   "execution_count": 3,
   "metadata": {
    "collapsed": false
   },
   "outputs": [],
   "source": [
    "#How would you plot the other class of solutions?"
   ]
  },
  {
   "cell_type": "markdown",
   "metadata": {},
   "source": [
    "Moving on to something a bit more complicated, using separation of variables, find $u(x,y)$ where \n",
    "$$\n",
    "\\Delta u = 0, ~ (x,y) \\in [-\\pi,\\pi]\\times[-\\pi,\\pi]\n",
    "$$\n",
    "with the Dirichlet data\n",
    "$$\n",
    "u = 0, ~ y=\\pm \\pi\n",
    "$$\n",
    "and \n",
    "$$\n",
    "u = \\pm y(y-\\pi)^{2}(y+\\pi)^{2}, ~ x = \\pm \\pi ~\\mbox{respectively}.\n",
    "$$\n",
    "\n",
    "\n",
    "<strong> Solution </strong>: So, if we again write $u(x,y) = X(x)Y(y)$, then we immediately know that we have the infinite family of solutions\n",
    "$$\n",
    "Y_{n}(y) = \\sin(ny).\n",
    "$$\n",
    "Likewise, we immediately know that \n",
    "$$\n",
    "X_{n}(x) = \\tilde{\\alpha}_{1} \\cosh(nx)+ \\tilde{\\alpha}_{2} \\sinh(nx).\n",
    "$$\n",
    "Thus, the general solution to Laplace's equation can be written as \n",
    "$$\n",
    "u(x,y) = \\sum_{n=1}^{\\infty}\\alpha_{n}\\cosh(nx)\\sin(ny) + \\sum_{n=1}^{\\infty}\\beta_{n}\\sinh(nx)\\sin(ny).\n",
    "$$\n",
    "In order to find the unknown coefficients, we note that using the boundary conditions along $x=\\pm \\pi$, we get that \n",
    "$$\n",
    "\\pm y(y-\\pi)^{2}(y+\\pi)^{2} = \\sum_{n=1}^{\\infty}(\\alpha_{n}\\cosh(\\pi n) \\pm \\beta_{n}\\sinh(\\pi n))\\sin(ny).\n",
    "$$\n",
    "Given that\n",
    "$$\n",
    "\\frac{1}{\\pi}\\int_{-\\pi}^{\\pi} \\sin(ny)\\sin(my) dy = \\delta_{nm}\n",
    "$$\n",
    "where $\\delta_{nm}$ is the Kroenecker delta function, i.e. \n",
    "$$\n",
    "\\delta_{nm} = \\left\\{ \\begin{array}{rl} 1 & n=m \\\\ 0 & n\\neq m\\end{array} \\right.\n",
    "$$\n"
   ]
  },
  {
   "cell_type": "markdown",
   "metadata": {},
   "source": [
    "<strong> Problem 3 </strong>: Show that $\\alpha_{n}$ and $\\beta_{n}$ satisfy the equation\n",
    "$$\n",
    "\\left( \\begin{array}{cc} \\cosh(\\pi n) & \\sinh(\\pi n) \\\\ \\cosh(\\pi n) & -\\sinh(\\pi n)\\end{array} \\right)\\left(\\begin{array}{c} \\alpha_{n} \\\\ \\beta_{n} \\end{array} \\right) = c_{n}\\left(\\begin{array}{c} 1 \\\\ -1 \\end{array} \\right)\n",
    "$$\n",
    "where\n",
    "$$\n",
    "c_{n} = (-1)^{n}\\frac{16}{n^{3}}\\left(\\pi^{2} -\\frac{15}{n^2}\\right).\n",
    "$$\n",
    "Using this, show that the solution to Laplace's equation with the given boundary data is given by\n",
    "$$\n",
    "u(x,y) = \\sum_{n=1}^{\\infty}\\frac{c_{n}}{\\sinh(\\pi n)}\\sinh(nx)\\sin(ny).\n",
    "$$"
   ]
  },
  {
   "cell_type": "markdown",
   "metadata": {},
   "source": [
    "Now, what would we do if we wanted to actually see what this solution looked like?  Well, we need to compute it in order to plot it.  We might think of doing this by discretely sampling at the points\n",
    "$$\n",
    "x_{j} = -\\pi + \\frac{\\pi}{K} j, ~ y_{m} = -\\pi + \\frac{\\pi}{K} m, ~ j,m = 0, \\cdots, 2K-1.\n",
    "$$\n",
    "where we are implicitly assuming that we are diving the interval $[-\\pi,\\pi]$ into $2K$ equally spaced points.  We immediately note that\n",
    "\\begin{align*}\n",
    "u(x,y_{m}) = & \\sum_{n=1}^{\\infty}\\frac{(-1)^{n}c_{n}}{\\sinh(\\pi n)}\\sinh(nx)\\sin\\left(\\frac{\\pi n m}{K}\\right)\\\\\n",
    "= & \\sum_{n=1}^{K-1}\\frac{(-1)^{n}c_{n}}{\\sinh(\\pi n)}\\sinh(nx)\\sin\\left(\\frac{\\pi n m}{K}\\right) + \\sum_{l=1}^{\\infty}\\sum_{n=lK}^{(l+1)K-1}\\frac{(-1)^{n}c_{n}}{\\sinh(\\pi n)}\\sinh(nx)\\sin\\left(\\frac{\\pi n m}{K}\\right)\\\\\n",
    "= & \\sum_{n=1}^{K-1}\\frac{(-1)^{n}c_{n}}{\\sinh(\\pi n)}\\sinh(nx)\\sin\\left(\\frac{\\pi n m}{K}\\right) + \\sum_{l=1}^{\\infty}\\sum_{n=1}^{K-1}\\frac{(-1)^{n+ml}c_{n+lK}}{\\sinh(\\pi (n+lK))}\\sinh((n+lK)x)\\sin\\left(\\frac{\\pi n m}{K}\\right)\n",
    "\\end{align*}\n",
    "\n",
    "\n",
    "Thus, we see that once we sample in the $y$-direction at a finite number of points, the infinite Fourier series collapses to a sum over $2K$ modes, with all higher frequency information being *aliased*.  We therefore find it very natural to truncate the infinite series at $K$ (2K in terms of complex exponentials).  We therefore wish to compute\n",
    "$$\n",
    "u(x_{j},y_{m}) \\approx \\sum_{n=-K+1}^{K} \\tilde{c}_{n,j} e^{2\\pi i n m/2K},\n",
    "$$\n",
    "where $\\tilde{c}_{0,j} = \\tilde{c}_{K,j} = 0$, \n",
    "$$\n",
    "\\tilde{c}_{n,j} = \\frac{(-1)^{n}c_{n}}{2i\\sinh(\\pi n)}\\sinh(n x_{j}), ~ n > 0,\n",
    "$$\n",
    "and\n",
    "$$\n",
    "\\tilde{c}_{-n,j} = \\tilde{c}^{\\ast}_{n,j}.\n",
    "$$\n",
    "We introduce a trick so that\n",
    "\\begin{align*}\n",
    "u(x_{j},y_{m}) \\approx & \\sum_{n=0}^{K} \\tilde{c}_{n,j} e^{2\\pi i n m/2K} + \\sum_{n=-K+1}^{-1} \\tilde{c}_{n,j} e^{2\\pi i n m/2K}\\\\\n",
    "\\approx & \\sum_{n=0}^{K} \\tilde{c}_{n,j} e^{2\\pi i n m/2K} + \\sum_{n=K+1}^{2K-1} \\tilde{c}_{n-2K,j} e^{2\\pi i n m/2K}.\n",
    "\\end{align*}\n",
    "Based off this trick, it is the convention in Numpy/Scipy, and Matlab as well, that *discrete Fourier transforms* are taken with respect to this convention, i.e. we should always work from the point of view that we are transforming the vector\n",
    "$$\n",
    "{\\bf c}_{j} = \\left(\\begin{array}{c} c_{0,j}\\\\ c_{1,j}\\\\ \\vdots \\\\ c_{K,j} \\\\ c_{-K+1,j} \\\\ \\vdots \\\\ c_{-1,j} \\end{array}\\right)\n",
    "$$\n",
    "\n",
    "\n",
    "The way this manifests itself in code can be seen below."
   ]
  },
  {
   "cell_type": "code",
   "execution_count": 8,
   "metadata": {
    "collapsed": false
   },
   "outputs": [],
   "source": [
    "Kvals = 2**3\n",
    "Xvals = np.linspace(-Pi,Pi,2*Kvals)\n",
    "Uvals = np.zeros([2*Kvals,2*Kvals])\n",
    "\n",
    "Kvec = np.arange(1,Kvals,1)\n",
    "   \n",
    "cvec = (16./Kvec**3)*(Pi**2  - 15./Kvec**2)/(2.*1j*np.sinh(Pi*Kvec))\n",
    "    \n",
    "for jj in xrange(2*Kvals):\n",
    "    cvecj = np.zeros(2*Kvals,dtype=np.complex128)\n",
    "    cvecj[1:Kvals] = cvec*np.sinh(Kvec*Xvals[jj])\n",
    "    cvecj[Kvals+1:] = np.conjugate(np.flipud(cvecj[1:Kvals]))\n",
    "    Uvals[:,jj] = 2*Kvals*(np.fft.ifft(cvecj)).real\n",
    "    \n",
    "fig = plt.figure()\n",
    "ax = fig.add_subplot(111, projection='3d')\n",
    "\n",
    "Xg,Yg = np.meshgrid(Xvals,Xvals)\n",
    "\n",
    "ax.plot_surface(Xg,Yg,Uvals)\n",
    "plt.show()"
   ]
  },
  {
   "cell_type": "markdown",
   "metadata": {
    "collapsed": true
   },
   "source": [
    "<strong> Problem 4 </strong>: The above code runs into trouble if `Kvals`$\\geq 2^{8}$ due to the $\\sinh(nx_{j})$ terms becoming too large.  How might you fix this?  Produce code that addresses this issue.  "
   ]
  },
  {
   "cell_type": "code",
   "execution_count": null,
   "metadata": {
    "collapsed": true
   },
   "outputs": [],
   "source": []
  }
 ],
 "metadata": {
  "anaconda-cloud": {},
  "kernelspec": {
   "display_name": "Python [Root]",
   "language": "python",
   "name": "Python [Root]"
  },
  "language_info": {
   "codemirror_mode": {
    "name": "ipython",
    "version": 2
   },
   "file_extension": ".py",
   "mimetype": "text/x-python",
   "name": "python",
   "nbconvert_exporter": "python",
   "pygments_lexer": "ipython2",
   "version": "2.7.12"
  }
 },
 "nbformat": 4,
 "nbformat_minor": 0
}
